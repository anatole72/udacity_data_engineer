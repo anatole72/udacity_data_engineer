{
 "cells": [
  {
   "cell_type": "markdown",
   "metadata": {},
   "source": [
    "# Data Wrangling with DataFrames Coding Quiz\n",
    "\n",
    "Use this Jupyter notebook to find the answers to the quiz in the previous section. There is an answer key in the next part of the lesson."
   ]
  },
  {
   "cell_type": "code",
   "execution_count": 7,
   "metadata": {},
   "outputs": [
    {
     "data": {
      "text/plain": [
       "DataFrame[summary: string, artist: string, auth: string, firstName: string, gender: string, itemInSession: string, lastName: string, length: string, level: string, location: string, method: string, page: string, registration: string, sessionId: string, song: string, status: string, ts: string, userAgent: string, userId: string]"
      ]
     },
     "execution_count": 7,
     "metadata": {},
     "output_type": "execute_result"
    }
   ],
   "source": [
    "from pyspark.sql import SparkSession\n",
    "import numpy as np\n",
    "import pandas as pd\n",
    "\n",
    "spark = SparkSession.builder.appName(\"Data Wrangling\").getOrCreate()\n",
    "\n",
    "user_log = spark.read.json(\"data/sparkify_log_small.json\")\n",
    "\n",
    "user_log.describe()"
   ]
  },
  {
   "cell_type": "markdown",
   "metadata": {},
   "source": [
    "# Question 1\n",
    "\n",
    "Which page did user id \"\" (empty string) NOT visit?"
   ]
  },
  {
   "cell_type": "code",
   "execution_count": 14,
   "metadata": {},
   "outputs": [
    {
     "name": "stdout",
     "output_type": "stream",
     "text": [
      "The user empty did not visit the following pages: \n",
      "NextSong\n",
      "Downgrade\n",
      "Logout\n",
      "Settings\n",
      "Save Settings\n",
      "Error\n",
      "Submit Downgrade\n",
      "Upgrade\n",
      "Submit Upgrade\n"
     ]
    }
   ],
   "source": [
    "pages = user_log.select(\"page\").dropDuplicates().collect()\n",
    "\n",
    "empty_user_pages = user_log.select(\"page\").where(user_log.userId == \"\").dropDuplicates().collect()\n",
    "\n",
    "empty_user_not_visited_pages = list(set(pages) - set(empty_user_pages))\n",
    "\n",
    "print('The user empty did not visit the following pages: ')\n",
    "for row in empty_user_not_visited_pages:\n",
    "    print(row['page'])"
   ]
  },
  {
   "cell_type": "markdown",
   "metadata": {},
   "source": [
    "# Question 2 - Reflect\n",
    "\n",
    "What type of user does the empty string user id most likely refer to?\n"
   ]
  },
  {
   "cell_type": "code",
   "execution_count": 15,
   "metadata": {},
   "outputs": [
    {
     "data": {
      "text/plain": [
       "[Row(page='Home'), Row(page='About'), Row(page='Login'), Row(page='Help')]"
      ]
     },
     "execution_count": 15,
     "metadata": {},
     "output_type": "execute_result"
    }
   ],
   "source": [
    "empty_user_pages = user_log.select(\"page\").where(user_log.userId == \"\").dropDuplicates().collect()\n",
    "\n",
    "empty_user_pages"
   ]
  },
  {
   "cell_type": "markdown",
   "metadata": {},
   "source": [
    "Looking above the pages that the user id empty string visited, we can conclude that **these pages does not requires the user to be registered nor logged in.**"
   ]
  },
  {
   "cell_type": "markdown",
   "metadata": {},
   "source": [
    "# Question 3\n",
    "\n",
    "How many female users do we have in the data set?"
   ]
  },
  {
   "cell_type": "code",
   "execution_count": 18,
   "metadata": {},
   "outputs": [
    {
     "name": "stdout",
     "output_type": "stream",
     "text": [
      "+-------+------+\n",
      "|summary|gender|\n",
      "+-------+------+\n",
      "|  count|   462|\n",
      "|   mean|  null|\n",
      "| stddev|  null|\n",
      "|    min|     F|\n",
      "|    max|     F|\n",
      "+-------+------+\n",
      "\n"
     ]
    }
   ],
   "source": [
    "user_log.select(['userId', 'gender']).where(user_log.gender == 'F').dropDuplicates().describe('gender').show()"
   ]
  },
  {
   "cell_type": "markdown",
   "metadata": {},
   "source": [
    "# Question 4\n",
    "\n",
    "How many songs were played from the most played artist?"
   ]
  },
  {
   "cell_type": "code",
   "execution_count": 27,
   "metadata": {},
   "outputs": [
    {
     "name": "stdout",
     "output_type": "stream",
     "text": [
      "Most played artist: \n",
      "Coldplay\n",
      "+-------+--------------------+\n",
      "|summary|                song|\n",
      "+-------+--------------------+\n",
      "|  count|                  83|\n",
      "|   mean|                null|\n",
      "| stddev|                null|\n",
      "|    min|A Rush Of Blood T...|\n",
      "|    max|                 Yes|\n",
      "+-------+--------------------+\n",
      "\n"
     ]
    }
   ],
   "source": [
    "top_artists = user_log.where(user_log.page == \"NextSong\").groupBy('artist').count().sort('count', ascending=False)\n",
    "top_artists = top_artists.collect()\n",
    "\n",
    "most_played_artist = top_artists[0]['artist']\n",
    "print('Most played artist: ')\n",
    "print(most_played_artist)\n",
    "\n",
    "song_count = user_log.select('song').where(user_log.page == \"NextSong\") \\\n",
    "    .where(user_log.artist == most_played_artist)\n",
    "\n",
    "song_count.describe('song').show()"
   ]
  },
  {
   "cell_type": "markdown",
   "metadata": {},
   "source": [
    "# Question 5 (challenge)\n",
    "\n",
    "How many songs do users listen to on average between visiting our home page? Please round your answer to the closest integer.\n",
    "\n"
   ]
  },
  {
   "cell_type": "code",
   "execution_count": 51,
   "metadata": {},
   "outputs": [
    {
     "name": "stdout",
     "output_type": "stream",
     "text": [
      "user_log_valid count\n",
      "9473\n",
      "+-----------------+\n",
      "|avg(count(phase))|\n",
      "+-----------------+\n",
      "|6.898347107438017|\n",
      "+-----------------+\n",
      "\n"
     ]
    }
   ],
   "source": [
    "from pyspark.sql.types import IntegerType\n",
    "from pyspark.sql.functions import udf\n",
    "from pyspark.sql import Window\n",
    "from pyspark.sql.functions import sum as Fsum\n",
    "from pyspark.sql.functions import desc\n",
    "from pyspark.sql.functions import col\n",
    "\n",
    "# create a numerical flag for wether the user is in the home page\n",
    "flag_homepage_visit = udf(lambda x: 1 if x == \"Home\" else 0, IntegerType())\n",
    "\n",
    "# after flagging all home visits, we use that new column to create a window between home visits\n",
    "windowval = Window.partitionBy(\"userId\").orderBy(desc(\"ts\")).rangeBetween(Window.unboundedPreceding, 0)\n",
    "\n",
    "# add a new columns called phase with that window count\n",
    "user_log_valid = user_log.filter((user_log.page == 'NextSong') | (user_log.page == 'Home')) \\\n",
    "    .select('userId', 'page', 'ts') \\\n",
    "    .withColumn(\"visited_home\", flag_homepage_visit(col(\"page\"))) \\\n",
    "    .withColumn(\"phase\", Fsum(\"visited_home\").over(windowval))\n",
    "\n",
    "# with the new column, filter only the phase 1 and the page NextSong. Then group by userId and count it!\n",
    "user_log_valid.where(user_log_valid.page == 'NextSong') \\\n",
    "    .groupBy('userId', 'phase') \\\n",
    "    .agg({'phase':'count'}) \\\n",
    "    .agg({'count(phase)':'avg'}).show()\n"
   ]
  },
  {
   "cell_type": "code",
   "execution_count": null,
   "metadata": {},
   "outputs": [],
   "source": []
  }
 ],
 "metadata": {
  "kernelspec": {
   "display_name": "Python 3",
   "language": "python",
   "name": "python3"
  },
  "language_info": {
   "codemirror_mode": {
    "name": "ipython",
    "version": 3
   },
   "file_extension": ".py",
   "mimetype": "text/x-python",
   "name": "python",
   "nbconvert_exporter": "python",
   "pygments_lexer": "ipython3",
   "version": "3.7.3"
  }
 },
 "nbformat": 4,
 "nbformat_minor": 2
}
