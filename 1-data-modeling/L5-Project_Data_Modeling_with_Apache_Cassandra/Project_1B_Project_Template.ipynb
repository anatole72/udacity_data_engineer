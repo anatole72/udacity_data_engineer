{
 "cells": [
  {
   "cell_type": "markdown",
   "metadata": {},
   "source": [
    "# Part I. ETL Pipeline for Pre-Processing the Files"
   ]
  },
  {
   "cell_type": "markdown",
   "metadata": {},
   "source": [
    "## PLEASE RUN THE FOLLOWING CODE FOR PRE-PROCESSING THE FILES"
   ]
  },
  {
   "cell_type": "markdown",
   "metadata": {},
   "source": [
    "#### Import Python packages "
   ]
  },
  {
   "cell_type": "code",
   "execution_count": 8,
   "metadata": {},
   "outputs": [],
   "source": [
    "# Import Python packages \n",
    "import pandas as pd\n",
    "import cassandra\n",
    "import re\n",
    "import os\n",
    "import glob\n",
    "import numpy as np\n",
    "import json\n",
    "import csv\n",
    "from decimal import Decimal\n",
    "from prettytable import PrettyTable\n"
   ]
  },
  {
   "cell_type": "markdown",
   "metadata": {},
   "source": [
    "#### Creating list of filepaths to process original event csv data files"
   ]
  },
  {
   "cell_type": "code",
   "execution_count": null,
   "metadata": {},
   "outputs": [],
   "source": [
    "# checking your current working directory\n",
    "print(os.getcwd())\n",
    "\n",
    "# Get your current folder and subfolder event data\n",
    "filepath = os.getcwd() + '/event_data'\n",
    "\n",
    "# Create a for loop to create a list of files and collect each filepath\n",
    "for root, dirs, files in os.walk(filepath):\n",
    "    \n",
    "# join the file path and roots with the subdirectories using glob\n",
    "    file_path_list = glob.glob(os.path.join(root,'*'))\n",
    "    #print(file_path_list)"
   ]
  },
  {
   "cell_type": "markdown",
   "metadata": {},
   "source": [
    "#### Processing the files to create the data file csv that will be used for Apache Casssandra tables"
   ]
  },
  {
   "cell_type": "code",
   "execution_count": null,
   "metadata": {},
   "outputs": [],
   "source": [
    "# initiating an empty list of rows that will be generated from each file\n",
    "full_data_rows_list = [] \n",
    "    \n",
    "# for every filepath in the file path list \n",
    "for f in file_path_list:\n",
    "\n",
    "# reading csv file \n",
    "    with open(f, 'r', encoding = 'utf8', newline='') as csvfile: \n",
    "        # creating a csv reader object \n",
    "        csvreader = csv.reader(csvfile) \n",
    "        next(csvreader)\n",
    "        \n",
    " # extracting each data row one by one and append it        \n",
    "        for line in csvreader:\n",
    "            #print(line)\n",
    "            full_data_rows_list.append(line) \n",
    "            \n",
    "# uncomment the code below if you would like to get total number of rows \n",
    "#print(len(full_data_rows_list))\n",
    "# uncomment the code below if you would like to check to see what the list of event data rows will look like\n",
    "#print(full_data_rows_list)\n",
    "\n",
    "# creating a smaller event data csv file called event_datafile_full csv that will be used to insert data into the \\\n",
    "# Apache Cassandra tables\n",
    "csv.register_dialect('myDialect', quoting=csv.QUOTE_ALL, skipinitialspace=True)\n",
    "\n",
    "with open('event_datafile_new.csv', 'w', encoding = 'utf8', newline='') as f:\n",
    "    writer = csv.writer(f, dialect='myDialect')\n",
    "    writer.writerow(['artist','firstName','gender','itemInSession','lastName','length',\\\n",
    "                'level','location','sessionId','song','userId'])\n",
    "    for row in full_data_rows_list:\n",
    "        if (row[0] == ''):\n",
    "            continue\n",
    "        writer.writerow((row[0], row[2], row[3], row[4], row[5], row[6], row[7], row[8], row[12], row[13], row[16]))\n",
    "## [0:'artist',\n",
    "## 1:'firstName',\n",
    "## 2:'gender',\n",
    "## 3:'itemInSession',\n",
    "## 4:'lastName',\n",
    "## 5:'length',\n",
    "## 6:'level',\n",
    "## 7:'location',\n",
    "## 8:'sessionId',\n",
    "## 9:'song',\n",
    "## 10:'userId']\n"
   ]
  },
  {
   "cell_type": "code",
   "execution_count": null,
   "metadata": {},
   "outputs": [],
   "source": [
    "# check the number of rows in your csv file\n",
    "with open('event_datafile_new.csv', 'r', encoding = 'utf8') as f:\n",
    "    print(sum(1 for line in f))"
   ]
  },
  {
   "cell_type": "markdown",
   "metadata": {},
   "source": [
    "# Part II. Complete the Apache Cassandra coding portion of your project. \n",
    "\n",
    "## Now you are ready to work with the CSV file titled <font color=red>event_datafile_new.csv</font>, located within the Workspace directory.  The event_datafile_new.csv contains the following columns: \n",
    "- artist \n",
    "- firstName of user\n",
    "- gender of user\n",
    "- item number in session\n",
    "- last name of user\n",
    "- length of the song\n",
    "- level (paid or free song)\n",
    "- location of the user\n",
    "- sessionId\n",
    "- song title\n",
    "- userId\n",
    "\n",
    "The image below is a screenshot of what the denormalized data should appear like in the <font color=red>**event_datafile_new.csv**</font> after the code above is run:<br>\n",
    "\n",
    "<img src=\"images/image_event_datafile_new.jpg\">"
   ]
  },
  {
   "cell_type": "markdown",
   "metadata": {},
   "source": [
    "## Begin writing your Apache Cassandra code in the cells below"
   ]
  },
  {
   "cell_type": "markdown",
   "metadata": {},
   "source": [
    "#### Creating a Cluster"
   ]
  },
  {
   "cell_type": "code",
   "execution_count": 2,
   "metadata": {},
   "outputs": [],
   "source": [
    "# This should make a connection to a Cassandra instance your local machine \n",
    "# (127.0.0.1)\n",
    "\n",
    "from cassandra.cluster import Cluster\n",
    "cluster = Cluster(['127.0.0.1'])\n",
    "\n",
    "# To establish connection and begin executing queries, need a session\n",
    "session = cluster.connect()"
   ]
  },
  {
   "cell_type": "markdown",
   "metadata": {},
   "source": [
    "#### Create Keyspace"
   ]
  },
  {
   "cell_type": "code",
   "execution_count": 3,
   "metadata": {},
   "outputs": [],
   "source": [
    "try:\n",
    "    session.execute(\"\"\"\n",
    "    CREATE KEYSPACE IF NOT EXISTS sparkify \n",
    "    WITH REPLICATION = \n",
    "    { 'class' : 'SimpleStrategy', 'replication_factor' : 1 }\"\"\"\n",
    ")\n",
    "\n",
    "except Exception as e:\n",
    "    print(e)"
   ]
  },
  {
   "cell_type": "markdown",
   "metadata": {},
   "source": [
    "#### Set Keyspace and define querying functions"
   ]
  },
  {
   "cell_type": "code",
   "execution_count": 4,
   "metadata": {},
   "outputs": [],
   "source": [
    "try:\n",
    "    session.set_keyspace('sparkify')\n",
    "except Exception as e:\n",
    "    print(e)\n",
    "\n",
    "    \n",
    "def execute_query(query):\n",
    "    try:\n",
    "        return session.execute(query)\n",
    "    except Exception as e:\n",
    "        print(e)\n",
    "        \n",
    "def execute_query_with_params(query, params):\n",
    "    try:\n",
    "        return session.execute(query, params)\n",
    "    except Exception as e:\n",
    "        print(e)\n",
    "        \n",
    "def process_csv_file(file, func):\n",
    "    \"\"\"\n",
    "    Process all the data executing the given func for every *.json file of the given filepath\n",
    "    :param filepath: The file path\n",
    "    :return:None\n",
    "    \"\"\"\n",
    "    with open(file, encoding = 'utf8') as f:\n",
    "        csvreader = csv.reader(f)\n",
    "        next(csvreader)\n",
    "        for line in csvreader:\n",
    "            func(line)\n",
    "    \n",
    "        "
   ]
  },
  {
   "cell_type": "markdown",
   "metadata": {},
   "source": [
    "### Now we need to create tables to run the following queries. Remember, with Apache Cassandra you model the database tables on the queries you want to run."
   ]
  },
  {
   "cell_type": "markdown",
   "metadata": {},
   "source": [
    "## Create queries to ask the following three questions of the data\n",
    "\n",
    "### 1. Give me the artist, song title and song's length in the music app history that was heard during  sessionId = 338, and itemInSession  = 4\n",
    "\n",
    "#### The table structure\n",
    "\n",
    "As this query demands, we only need 2 identificators for this table: `session_id` and `item_in_session`. And finally only 3 more informations: `artist`, `song`, `song_length`.\n",
    "\n",
    "With these specifications we have nicely distributed table accordingly with the `session_id` and clusterized by `item_in_session` which is a column with repeated values meaning that our clustering will generate sufficient clusters to have a great performance with this query.\n",
    "\n",
    "\n"
   ]
  },
  {
   "cell_type": "code",
   "execution_count": 9,
   "metadata": {},
   "outputs": [
    {
     "data": {
      "text/plain": [
       "<cassandra.cluster.ResultSet at 0x7f9ee986bef0>"
      ]
     },
     "execution_count": 9,
     "metadata": {},
     "output_type": "execute_result"
    }
   ],
   "source": [
    "execute_query(\"\"\"\n",
    "    CREATE TABLE IF NOT EXISTS session_library (\n",
    "        session_id int,\n",
    "        item_in_session int,\n",
    "        artist text,\n",
    "        song text,\n",
    "        song_length decimal,\n",
    "        PRIMARY KEY (session_id, item_in_session)\n",
    "    )\n",
    "\"\"\")"
   ]
  },
  {
   "cell_type": "markdown",
   "metadata": {},
   "source": [
    "#### Data insertion\n",
    "\n",
    "To insert the data we will do basic transforming in 3 fields:\n",
    "\n",
    "- `session_id` should be an `int`\n",
    "- `item_in_session` also should be an `int`\n",
    "- `song_length` should be a `decimal`\n"
   ]
  },
  {
   "cell_type": "code",
   "execution_count": 10,
   "metadata": {
    "scrolled": false
   },
   "outputs": [],
   "source": [
    "def insert_to_session_library(line):\n",
    "    query = \"INSERT INTO session_library (session_id, item_in_session, artist, song, song_length)\"\n",
    "    query = query + \" VALUES (%s, %s, %s, %s, %s)\"\n",
    "    queryParameters = (int(line[8]), int(line[3]), line[0], line[9], Decimal(line[5]))\n",
    "    \n",
    "    return execute_query_with_params(query, queryParameters)\n",
    "\n",
    "process_csv_file('event_datafile_new.csv', func=insert_to_session_library)"
   ]
  },
  {
   "cell_type": "markdown",
   "metadata": {},
   "source": [
    "#### Verifying the inserted data\n",
    "\n",
    "Down below we have the stated query in the title of this section (and its results, of course):\n",
    "\n",
    "```sql\n",
    "SELECT \n",
    "    session_id, \n",
    "    item_in_session, \n",
    "    artist, \n",
    "    song, \n",
    "    song_length \n",
    "FROM \n",
    "    session_library \n",
    "WHERE \n",
    "    session_id = 338 AND \n",
    "    item_in_session  = 4\n",
    "```"
   ]
  },
  {
   "cell_type": "code",
   "execution_count": 11,
   "metadata": {
    "scrolled": true
   },
   "outputs": [
    {
     "name": "stdout",
     "output_type": "stream",
     "text": [
      "+-----------+----------------+-----------+---------------------------------+---------------+\n",
      "| # Session | # Session Item |   Artist  |               Song              | Song Duration |\n",
      "+-----------+----------------+-----------+---------------------------------+---------------+\n",
      "|    338    |       4        | Faithless | Music Matters (Mark Knight Dub) |    495.3073   |\n",
      "+-----------+----------------+-----------+---------------------------------+---------------+\n"
     ]
    }
   ],
   "source": [
    "rows = execute_query(\"SELECT session_id, item_in_session, artist, song, song_length FROM session_library WHERE session_id = 338 AND item_in_session  = 4\")\n",
    "    \n",
    "t = PrettyTable(['# Session', '# Session Item', 'Artist', 'Song', 'Song Duration'])\n",
    "for row in rows:\n",
    "    t.add_row([row.session_id, row.item_in_session, row.artist, row.song, row.song_length])\n",
    "print(t)\n"
   ]
  },
  {
   "cell_type": "markdown",
   "metadata": {},
   "source": [
    "### 2. Give me only the following: name of artist, song (sorted by itemInSession) and user (first and last name) for userid = 10, sessionid = 182"
   ]
  },
  {
   "cell_type": "markdown",
   "metadata": {},
   "source": [
    "#### The table structure\n",
    "\n",
    "As this query ask, we'll have two identificators: `user_id` and `session_id`. They should be the **partition keys** to avoid having different session items of the same user in different nodes of Cassandra.\n",
    "\n",
    "We will have the following informations on our fields: `artist`, `song`, `first_name`, `last_name`.\n",
    "\n",
    "Then we need to have the results ordered by the `item_in_session`. This is where the tricky part of this query lives. We need to add our `item_in_session` in the primary key to retrieve our items ordered by it."
   ]
  },
  {
   "cell_type": "code",
   "execution_count": 12,
   "metadata": {
    "pycharm": {
     "is_executing": false
    }
   },
   "outputs": [
    {
     "data": {
      "text/plain": [
       "<cassandra.cluster.ResultSet at 0x7f9ebc6b2278>"
      ]
     },
     "execution_count": 12,
     "metadata": {},
     "output_type": "execute_result"
    }
   ],
   "source": [
    "execute_query(\"\"\"\n",
    "    CREATE TABLE IF NOT EXISTS user_library (\n",
    "        user_id int, \n",
    "        session_id int,\n",
    "        item_in_session int,\n",
    "        artist text,\n",
    "        song text,\n",
    "        first_name text,\n",
    "        last_name text,\n",
    "        PRIMARY KEY ((user_id, session_id), item_in_session)\n",
    "    )\n",
    "\"\"\")"
   ]
  },
  {
   "cell_type": "markdown",
   "metadata": {},
   "source": [
    "#### Data insertion\n",
    "\n",
    "In this table, we will do only 3 transforms:\n",
    "\n",
    "- `user_id` should be an `int`\n",
    "- `session_id` should be an `int`\n",
    "- `item_in_session` should be an `int`"
   ]
  },
  {
   "cell_type": "code",
   "execution_count": 13,
   "metadata": {
    "collapsed": false,
    "pycharm": {
     "name": "#%%\n"
    }
   },
   "outputs": [],
   "source": [
    "def insert_to_user_library(line):\n",
    "    query = \"INSERT INTO user_library (user_id, session_id, item_in_session, artist, song, first_name, last_name)\"\n",
    "    query = query + \"VALUES (%s, %s, %s, %s, %s, %s, %s)\"\n",
    "    queryParameters = (int(line[10]), int(line[8]), int(line[3]), line[0], line[9], line[1], line[4])\n",
    "    \n",
    "    return execute_query_with_params(query, queryParameters)\n",
    "\n",
    "process_csv_file('event_datafile_new.csv', func=insert_to_user_library)\n"
   ]
  },
  {
   "cell_type": "markdown",
   "metadata": {},
   "source": [
    "#### Testing query\n",
    "\n",
    "Below we have a `SELECT` query translating the specifications of the title of this section:\n",
    "\n",
    "```sql\n",
    "SELECT \n",
    "    artist, \n",
    "    song, \n",
    "    first_name, \n",
    "    last_name, \n",
    "    item_in_session \n",
    "FROM \n",
    "    user_library \n",
    "WHERE \n",
    "    user_id = 10 AND \n",
    "    session_id = 182\n",
    "```"
   ]
  },
  {
   "cell_type": "code",
   "execution_count": 14,
   "metadata": {
    "collapsed": false,
    "pycharm": {
     "name": "#%%\n"
    }
   },
   "outputs": [
    {
     "name": "stdout",
     "output_type": "stream",
     "text": [
      "+----------------+-------------------+------------------------------------------------------+------------+-----------+\n",
      "| # Session Item |       Artist      |                         Song                         | First Name | Last Name |\n",
      "+----------------+-------------------+------------------------------------------------------+------------+-----------+\n",
      "|       0        |  Down To The Bone |                  Keep On Keepin' On                  |   Sylvie   |    Cruz   |\n",
      "|       1        |    Three Drives   |                     Greece 2000                      |   Sylvie   |    Cruz   |\n",
      "|       2        | Sebastien Tellier |                      Kilometer                       |   Sylvie   |    Cruz   |\n",
      "|       3        |   Lonnie Gordon   | Catch You Baby (Steve Pitron & Max Sanna Radio Edit) |   Sylvie   |    Cruz   |\n",
      "+----------------+-------------------+------------------------------------------------------+------------+-----------+\n"
     ]
    }
   ],
   "source": [
    "rows = execute_query(\"SELECT artist, song, first_name, last_name, item_in_session FROM user_library WHERE user_id = 10 AND session_id = 182\")\n",
    "\n",
    "t = PrettyTable(['# Session Item', 'Artist', 'Song', 'First Name', 'Last Name'])\n",
    "for row in rows:\n",
    "    t.add_row([row.item_in_session, row.artist, row.song, row.first_name, row.last_name])\n",
    "print(t)\n"
   ]
  },
  {
   "cell_type": "markdown",
   "metadata": {},
   "source": [
    "### 3. Give me every user name (first and last) in my music app history who listened to the song 'All Hands Against His Own'"
   ]
  },
  {
   "cell_type": "markdown",
   "metadata": {},
   "source": [
    "#### The table structure\n",
    "\n",
    "As the title states, we have only one demand to our key, the `song` field. But only with the `song` field our rows would get overriden for different users that listened to the same song. Moreover, we need to add a second column to our `PRIMARY KEY` to make it **unique**, as we want the user's first and last name the best option to add to our `PRIMARY KEY` is the `user_id`, as it is the unique identificator of the user itself.\n",
    "\n",
    "Then, we only need the `first_name`, `last_name` and the `artist` to complement the `song` column."
   ]
  },
  {
   "cell_type": "code",
   "execution_count": 15,
   "metadata": {},
   "outputs": [
    {
     "data": {
      "text/plain": [
       "<cassandra.cluster.ResultSet at 0x7f9ebc6b20b8>"
      ]
     },
     "execution_count": 15,
     "metadata": {},
     "output_type": "execute_result"
    }
   ],
   "source": [
    "execute_query(\"\"\"\n",
    "    CREATE TABLE IF NOT EXISTS user_song_library (\n",
    "        user_id int, \n",
    "        song text,\n",
    "        artist text,\n",
    "        first_name text,\n",
    "        last_name text,\n",
    "        PRIMARY KEY (song, user_id)\n",
    "    )\n",
    "\"\"\")       "
   ]
  },
  {
   "cell_type": "markdown",
   "metadata": {},
   "source": [
    "#### Data insertion\n",
    "\n",
    "To insert data into the `user_song_library` table, we will need to transform only the `user_id` to an `int`."
   ]
  },
  {
   "cell_type": "code",
   "execution_count": 16,
   "metadata": {},
   "outputs": [],
   "source": [
    "def insert_to_user_song_library(line):\n",
    "    query = \"INSERT INTO user_song_library (user_id, song, artist, first_name, last_name)\"\n",
    "    query = query + \"VALUES (%s, %s, %s, %s, %s)\"\n",
    "    queryParameters = (int(line[10]), line[9], line[0], line[1], line[4])\n",
    "    \n",
    "    return execute_query_with_params(query, queryParameters)\n",
    "\n",
    "process_csv_file('event_datafile_new.csv', func=insert_to_user_song_library)"
   ]
  },
  {
   "cell_type": "markdown",
   "metadata": {},
   "source": [
    "#### Testing query\n",
    "\n",
    "Finally, we will test the table with the query as this section title´s states:\n",
    "\n",
    "```sql\n",
    "SELECT \n",
    "    first_name, \n",
    "    last_name, \n",
    "    song, \n",
    "    artist \n",
    "FROM \n",
    "    user_song_library \n",
    "WHERE \n",
    "    song = 'All Hands Against His Own'\n",
    "```"
   ]
  },
  {
   "cell_type": "code",
   "execution_count": 17,
   "metadata": {},
   "outputs": [
    {
     "name": "stdout",
     "output_type": "stream",
     "text": [
      "+------------+-----------+---------------------------+----------------+\n",
      "| First Name | Last Name |           Artist          |      Song      |\n",
      "+------------+-----------+---------------------------+----------------+\n",
      "| Jacqueline |   Lynch   | All Hands Against His Own | The Black Keys |\n",
      "|   Tegan    |   Levine  | All Hands Against His Own | The Black Keys |\n",
      "|    Sara    |  Johnson  | All Hands Against His Own | The Black Keys |\n",
      "+------------+-----------+---------------------------+----------------+\n"
     ]
    }
   ],
   "source": [
    "rows = execute_query(\"SELECT first_name, last_name, song, artist FROM user_song_library WHERE song = 'All Hands Against His Own'\")\n",
    "\n",
    "t = PrettyTable(['First Name', 'Last Name', 'Artist', 'Song'])\n",
    "for row in rows:\n",
    "    t.add_row([row.first_name, row.last_name, row.song, row.artist])\n",
    "print(t)"
   ]
  },
  {
   "cell_type": "markdown",
   "metadata": {},
   "source": [
    "### Drop the tables before closing out the sessions"
   ]
  },
  {
   "cell_type": "code",
   "execution_count": 18,
   "metadata": {},
   "outputs": [
    {
     "data": {
      "text/plain": [
       "<cassandra.cluster.ResultSet at 0x7f9eb9bdd9b0>"
      ]
     },
     "execution_count": 18,
     "metadata": {},
     "output_type": "execute_result"
    }
   ],
   "source": [
    "execute_query(\"drop table user_library\")\n",
    "execute_query(\"drop table session_library\")\n",
    "execute_query(\"drop table user_song_library\")\n"
   ]
  },
  {
   "cell_type": "markdown",
   "metadata": {},
   "source": [
    "### Close the session and cluster connection¶"
   ]
  },
  {
   "cell_type": "code",
   "execution_count": 19,
   "metadata": {},
   "outputs": [],
   "source": [
    "session.shutdown()\n",
    "cluster.shutdown()"
   ]
  },
  {
   "cell_type": "code",
   "execution_count": null,
   "metadata": {},
   "outputs": [],
   "source": []
  },
  {
   "cell_type": "code",
   "execution_count": null,
   "metadata": {},
   "outputs": [],
   "source": []
  }
 ],
 "metadata": {
  "kernelspec": {
   "display_name": "Python 3",
   "language": "python",
   "name": "python3"
  },
  "language_info": {
   "codemirror_mode": {
    "name": "ipython",
    "version": 3
   },
   "file_extension": ".py",
   "mimetype": "text/x-python",
   "name": "python",
   "nbconvert_exporter": "python",
   "pygments_lexer": "ipython3",
   "version": "3.6.3"
  },
  "pycharm": {
   "stem_cell": {
    "cell_type": "raw",
    "metadata": {
     "collapsed": false
    },
    "source": []
   }
  }
 },
 "nbformat": 4,
 "nbformat_minor": 2
}
